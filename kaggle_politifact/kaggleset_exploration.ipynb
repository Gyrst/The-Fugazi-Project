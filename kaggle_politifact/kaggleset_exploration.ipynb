{
 "cells": [
  {
   "cell_type": "markdown",
   "metadata": {},
   "source": [
    "# PolitFact Kaggle Dataset\n",
    "\n",
    "Exploration of the data available on kaggle (https://www.kaggle.com/datasets/shivkumarganesh/politifact-factcheck-data?resource=download).\n",
    "The Dataset contains data up until April 2021.\n",
    "\n",
    "Dataset provided by [@shivkumarganesh](https://github.com/shivkumarganesh)\n",
    "\n",
    "## Kaggle Description:\n",
    "This data is scrapped from the [Politifact website](https://www.politifact.com/). It contains the claims made by individuals and what does the Politifact curators think about the same. This data can be used in order to run various NLP algorithms in order to find the integrity of the data and also determining the validity of a claim.\n",
    "\n",
    "## Content\n",
    "Image for associating the content:-\n",
    "When you land on Politifact website. You will see the page with the list of facts as shown below. I have also annotated the various column fields with the image for convenience.\n",
    "\n",
    "![data extraction approach](https://i.imgur.com/9MH52Uf.jpg)\n"
   ]
  },
  {
   "cell_type": "code",
   "execution_count": 1,
   "metadata": {},
   "outputs": [],
   "source": [
    "import pandas as pd"
   ]
  },
  {
   "cell_type": "code",
   "execution_count": 3,
   "metadata": {},
   "outputs": [],
   "source": [
    "pltfact = pd.read_csv(\"kaggle_politifact.csv\")"
   ]
  },
  {
   "cell_type": "code",
   "execution_count": 67,
   "metadata": {},
   "outputs": [
    {
     "data": {
      "text/html": [
       "<div>\n",
       "<style scoped>\n",
       "    .dataframe tbody tr th:only-of-type {\n",
       "        vertical-align: middle;\n",
       "    }\n",
       "\n",
       "    .dataframe tbody tr th {\n",
       "        vertical-align: top;\n",
       "    }\n",
       "\n",
       "    .dataframe thead th {\n",
       "        text-align: right;\n",
       "    }\n",
       "</style>\n",
       "<table border=\"1\" class=\"dataframe\">\n",
       "  <thead>\n",
       "    <tr style=\"text-align: right;\">\n",
       "      <th></th>\n",
       "      <th>Unnamed: 0</th>\n",
       "      <th>sources</th>\n",
       "      <th>sources_dates</th>\n",
       "      <th>sources_post_location</th>\n",
       "      <th>sources_quote</th>\n",
       "      <th>curator_name</th>\n",
       "      <th>curated_date</th>\n",
       "      <th>fact</th>\n",
       "      <th>sources_url</th>\n",
       "      <th>curators_article_title</th>\n",
       "      <th>curator_complete_article</th>\n",
       "      <th>curator_tags</th>\n",
       "    </tr>\n",
       "  </thead>\n",
       "  <tbody>\n",
       "    <tr>\n",
       "      <th>177</th>\n",
       "      <td>177</td>\n",
       "      <td>Facebook posts</td>\n",
       "      <td>2021-04-15 00:00:00</td>\n",
       "      <td>a Facebook post:\\n</td>\n",
       "      <td>\\nA serial killer is on the loose in Virginia.\\n</td>\n",
       "      <td>Ciara O'Rourke</td>\n",
       "      <td>2021-04-19 00:00:00</td>\n",
       "      <td>false</td>\n",
       "      <td>https://www.politifact.com/factchecks/2021/apr...</td>\n",
       "      <td>\\nPolice have said no foul play is suspected i...</td>\n",
       "      <td>\\nSerial killer warnings are spreading on soci...</td>\n",
       "      <td>Facebook Fact-checks,Virginia,Facebook posts</td>\n",
       "    </tr>\n",
       "    <tr>\n",
       "      <th>178</th>\n",
       "      <td>178</td>\n",
       "      <td>Terry McAuliffe</td>\n",
       "      <td>2021-04-06 00:00:00</td>\n",
       "      <td>a debate.:\\n</td>\n",
       "      <td>\\n“I restored felons’ rights - 173,000 - more ...</td>\n",
       "      <td>Warren Fiske</td>\n",
       "      <td>2021-04-19 00:00:00</td>\n",
       "      <td>mostly-true</td>\n",
       "      <td>https://www.politifact.com/factchecks/2021/apr...</td>\n",
       "      <td>\\nMcAuliffe near the top in restoring ex-felon...</td>\n",
       "      <td>\\nFormer and possibly future Gov. Terry McAuli...</td>\n",
       "      <td>Criminal Justice,Race and Ethnicity,Virginia,T...</td>\n",
       "    </tr>\n",
       "    <tr>\n",
       "      <th>174</th>\n",
       "      <td>174</td>\n",
       "      <td>Facebook posts</td>\n",
       "      <td>2021-04-06 00:00:00</td>\n",
       "      <td>a Facebook post:\\n</td>\n",
       "      <td>\\nDerek Chauvin had his left hand in his pocke...</td>\n",
       "      <td>Bill McCarthy</td>\n",
       "      <td>2021-04-19 00:00:00</td>\n",
       "      <td>false</td>\n",
       "      <td>https://www.politifact.com/factchecks/2021/apr...</td>\n",
       "      <td>\\nDid Derek Chauvin have his hand in his pocke...</td>\n",
       "      <td>\\nAs weeks of testimony come to a close in the...</td>\n",
       "      <td>Criminal Justice,Race and Ethnicity,Facebook F...</td>\n",
       "    </tr>\n",
       "  </tbody>\n",
       "</table>\n",
       "</div>"
      ],
      "text/plain": [
       "     Unnamed: 0          sources        sources_dates sources_post_location  \\\n",
       "177         177   Facebook posts  2021-04-15 00:00:00    a Facebook post:\\n   \n",
       "178         178  Terry McAuliffe  2021-04-06 00:00:00          a debate.:\\n   \n",
       "174         174   Facebook posts  2021-04-06 00:00:00    a Facebook post:\\n   \n",
       "\n",
       "                                         sources_quote     curator_name  \\\n",
       "177   \\nA serial killer is on the loose in Virginia.\\n  Ciara O'Rourke    \n",
       "178  \\n“I restored felons’ rights - 173,000 - more ...    Warren Fiske    \n",
       "174  \\nDerek Chauvin had his left hand in his pocke...   Bill McCarthy    \n",
       "\n",
       "            curated_date         fact  \\\n",
       "177  2021-04-19 00:00:00        false   \n",
       "178  2021-04-19 00:00:00  mostly-true   \n",
       "174  2021-04-19 00:00:00        false   \n",
       "\n",
       "                                           sources_url  \\\n",
       "177  https://www.politifact.com/factchecks/2021/apr...   \n",
       "178  https://www.politifact.com/factchecks/2021/apr...   \n",
       "174  https://www.politifact.com/factchecks/2021/apr...   \n",
       "\n",
       "                                curators_article_title  \\\n",
       "177  \\nPolice have said no foul play is suspected i...   \n",
       "178  \\nMcAuliffe near the top in restoring ex-felon...   \n",
       "174  \\nDid Derek Chauvin have his hand in his pocke...   \n",
       "\n",
       "                              curator_complete_article  \\\n",
       "177  \\nSerial killer warnings are spreading on soci...   \n",
       "178  \\nFormer and possibly future Gov. Terry McAuli...   \n",
       "174  \\nAs weeks of testimony come to a close in the...   \n",
       "\n",
       "                                          curator_tags  \n",
       "177       Facebook Fact-checks,Virginia,Facebook posts  \n",
       "178  Criminal Justice,Race and Ethnicity,Virginia,T...  \n",
       "174  Criminal Justice,Race and Ethnicity,Facebook F...  "
      ]
     },
     "execution_count": 67,
     "metadata": {},
     "output_type": "execute_result"
    }
   ],
   "source": [
    "#Not updated since 2021-04-19\n",
    "pltfact.sort_values(by='curated_date', ascending=False).head(3)\n"
   ]
  },
  {
   "cell_type": "code",
   "execution_count": 30,
   "metadata": {},
   "outputs": [],
   "source": [
    "print(\"nan tag values count\", pltfact.curator_tags.notna())\n",
    "pltfact = pltfact[pltfact.curator_tags.notna()]"
   ]
  },
  {
   "cell_type": "code",
   "execution_count": 33,
   "metadata": {},
   "outputs": [],
   "source": [
    "coronavirus = pltfact[pltfact['curator_tags'].str.contains('Coronavirus')]\n",
    "environment = pltfact[pltfact['curator_tags'].str.contains('Environment')]"
   ]
  },
  {
   "cell_type": "code",
   "execution_count": 36,
   "metadata": {},
   "outputs": [
    {
     "name": "stdout",
     "output_type": "stream",
     "text": [
      "News with environment tag 574\n",
      "News with coronavirus tag 839\n"
     ]
    }
   ],
   "source": [
    "print(\"News with environment tag\", len(environment))\n",
    "print(\"News with coronavirus tag\", len(coronavirus))"
   ]
  },
  {
   "cell_type": "code",
   "execution_count": 73,
   "metadata": {},
   "outputs": [],
   "source": [
    "corona_cat_distr = coronavirus.groupby('fact').count()[['sources']].transpose().rename({'sources':'coronavirus'})\n",
    "environment_cat_distr = environment.groupby('fact').count()[['sources']].transpose().rename({'sources':'environment'})"
   ]
  },
  {
   "cell_type": "code",
   "execution_count": 77,
   "metadata": {},
   "outputs": [
    {
     "data": {
      "text/html": [
       "<div>\n",
       "<style scoped>\n",
       "    .dataframe tbody tr th:only-of-type {\n",
       "        vertical-align: middle;\n",
       "    }\n",
       "\n",
       "    .dataframe tbody tr th {\n",
       "        vertical-align: top;\n",
       "    }\n",
       "\n",
       "    .dataframe thead th {\n",
       "        text-align: right;\n",
       "    }\n",
       "</style>\n",
       "<table border=\"1\" class=\"dataframe\">\n",
       "  <thead>\n",
       "    <tr style=\"text-align: right;\">\n",
       "      <th>fact</th>\n",
       "      <th>barely-true</th>\n",
       "      <th>false</th>\n",
       "      <th>full-flop</th>\n",
       "      <th>half-true</th>\n",
       "      <th>mostly-true</th>\n",
       "      <th>pants-fire</th>\n",
       "      <th>true</th>\n",
       "      <th>half-flip</th>\n",
       "      <th>no-flip</th>\n",
       "    </tr>\n",
       "  </thead>\n",
       "  <tbody>\n",
       "    <tr>\n",
       "      <th>coronavirus</th>\n",
       "      <td>126</td>\n",
       "      <td>377</td>\n",
       "      <td>1</td>\n",
       "      <td>86</td>\n",
       "      <td>66</td>\n",
       "      <td>143</td>\n",
       "      <td>40</td>\n",
       "      <td>NaN</td>\n",
       "      <td>NaN</td>\n",
       "    </tr>\n",
       "    <tr>\n",
       "      <th>environment</th>\n",
       "      <td>99</td>\n",
       "      <td>119</td>\n",
       "      <td>8</td>\n",
       "      <td>113</td>\n",
       "      <td>109</td>\n",
       "      <td>48</td>\n",
       "      <td>72</td>\n",
       "      <td>3.0</td>\n",
       "      <td>3.0</td>\n",
       "    </tr>\n",
       "  </tbody>\n",
       "</table>\n",
       "</div>"
      ],
      "text/plain": [
       "fact         barely-true  false  full-flop  half-true  mostly-true  \\\n",
       "coronavirus          126    377          1         86           66   \n",
       "environment           99    119          8        113          109   \n",
       "\n",
       "fact         pants-fire  true  half-flip  no-flip  \n",
       "coronavirus         143    40        NaN      NaN  \n",
       "environment          48    72        3.0      3.0  "
      ]
     },
     "execution_count": 77,
     "metadata": {},
     "output_type": "execute_result"
    }
   ],
   "source": [
    "pd.concat([corona_cat_distr, environment_cat_distr])"
   ]
  }
 ],
 "metadata": {
  "kernelspec": {
   "display_name": "Python 3.9.7 ('base')",
   "language": "python",
   "name": "python3"
  },
  "language_info": {
   "codemirror_mode": {
    "name": "ipython",
    "version": 3
   },
   "file_extension": ".py",
   "mimetype": "text/x-python",
   "name": "python",
   "nbconvert_exporter": "python",
   "pygments_lexer": "ipython3",
   "version": "3.9.7"
  },
  "orig_nbformat": 4,
  "vscode": {
   "interpreter": {
    "hash": "36e2581dfb10b7e3de3547be529c2e8e9e4d59798f578734b808d68ebdb931d0"
   }
  }
 },
 "nbformat": 4,
 "nbformat_minor": 2
}
