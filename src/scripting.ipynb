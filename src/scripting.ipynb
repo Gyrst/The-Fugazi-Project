{
 "cells": [
  {
   "cell_type": "code",
   "execution_count": 123,
   "metadata": {},
   "outputs": [
    {
     "name": "stdout",
     "output_type": "stream",
     "text": [
      "https://www.politifact.com/factchecks/list/?page=1&category=climate-change\n"
     ]
    }
   ],
   "source": [
    "import requests\n",
    "from bs4 import BeautifulSoup\n",
    "import re\n",
    "import urllib.request\n",
    "import time\n",
    "import regex as re\n",
    "\n",
    "topics = ['climate-change', 'environment', 'abortion', 'coronavirus', 'elections', 'terrorism', 'ukraine']\n",
    "\n",
    "base_url = 'https://www.politifact.com/factchecks/list/?page={page_number}&category={topic}'.format(page_number=1, topic=topics[0])\n",
    "\n",
    "\n",
    "\n",
    "def get_soup_page(url_page):\n",
    "    \"\"\"Converts URL into a BeautifulSoup object.\n",
    "    Args:\n",
    "        url_page (_type_): takes a URL page as input parsed as a string.\n",
    "    Returns:\n",
    "        _type_: returns a BeautifulSoup object.\n",
    "    \"\"\"\n",
    "    response = requests.get(url_page)\n",
    "    page = BeautifulSoup(response.content, 'html.parser')\n",
    "    return page\n",
    "\n",
    "\n",
    "\n",
    "print(base_url)\n",
    "\n",
    "so = get_soup_page(base_url)\n",
    "\n"
   ]
  },
  {
   "cell_type": "code",
   "execution_count": 124,
   "metadata": {},
   "outputs": [],
   "source": [
    "#Task page / section divider to loop over --> Then take the subsection details for each + link to the page.\n",
    "#From the link to the page --> get link details from the original source, and other valuable details. descriptions, textual page content etc.\n",
    "\n",
    "quote = 'm-statement__quote'\n",
    "date = \"m-statement__desc\"\n",
    "\n",
    "\n",
    "lst_items = so.find_all(attrs={\"o-listicle__item\"})\n"
   ]
  },
  {
   "cell_type": "code",
   "execution_count": 125,
   "metadata": {},
   "outputs": [
    {
     "data": {
      "text/plain": [
       "<li class=\"o-listicle__item\">\n",
       "<article class=\"m-statement m-statement--is-medium m-statement--mostly-false\">\n",
       "<div class=\"m-statement__author\">\n",
       "<div class=\"m-statement__avatar\">\n",
       "<div class=\"m-statement__image\">\n",
       "<div class=\"c-image\" style=\"padding-top: 119.27710843373494%;\">\n",
       "<img class=\"c-image__thumb\" height=\"99\" src=\"https://static.politifact.com/CACHE/images/politifact/mugs/768px-Instagram_logo_2016.svg/ded2b9f749050358af5c2d8f64763a47.jpg\" width=\"83\"/>\n",
       "<picture>\n",
       "<img class=\"c-image__original\" height=\"178\" src=\"https://static.politifact.com/CACHE/images/politifact/mugs/768px-Instagram_logo_2016.svg/434e60023d373d5a61ee0eda44ccebad.jpg\" width=\"166\"/>\n",
       "</picture>\n",
       "</div>\n",
       "</div>\n",
       "</div>\n",
       "<div class=\"m-statement__meta\">\n",
       "<a class=\"m-statement__name\" href=\"/personalities/instagram-posts/\" title=\"Instagram posts\">\n",
       "Instagram posts\n",
       "</a>\n",
       "<div class=\"m-statement__desc\">\n",
       "stated on August 27, 2022 in an Instagram video:\n",
       "</div>\n",
       "</div>\n",
       "</div>\n",
       "<div class=\"m-statement__content\">\n",
       "<div class=\"m-statement__body\">\n",
       "<div class=\"m-statement__quote-wrap\">\n",
       "<div class=\"m-statement__quote\">\n",
       "<a href=\"/factchecks/2022/sep/07/instagram-posts/no-there-isnt-unlimited-supply-water-being-made-un/\">\n",
       "There’s an unlimited supply of water being generated “deep within the Earth.”\n",
       "</a>\n",
       "</div>\n",
       "</div>\n",
       "<div class=\"m-statement__meter\">\n",
       "<div class=\"c-image\" style=\"padding-top: 89.49771689497716%;\">\n",
       "<img alt=\"barely-true\" class=\"c-image__thumb\" height=\"196\" src=\"https://static.politifact.com/img/meter-barely-true-th.jpg\" width=\"219\"/>\n",
       "<picture>\n",
       "<img alt=\"barely-true\" class=\"c-image__original\" height=\"196\" src=\"https://static.politifact.com/img/meter-barely-true.jpg\" width=\"219\"/>\n",
       "</picture>\n",
       "</div>\n",
       "</div>\n",
       "<footer class=\"m-statement__footer\">\n",
       "By Andy Nguyen • September 7, 2022\n",
       "</footer>\n",
       "</div>\n",
       "</div>\n",
       "</article>\n",
       "</li>"
      ]
     },
     "execution_count": 125,
     "metadata": {},
     "output_type": "execute_result"
    }
   ],
   "source": [
    "lst_items[0]"
   ]
  },
  {
   "cell_type": "code",
   "execution_count": 126,
   "metadata": {},
   "outputs": [],
   "source": [
    "data = []"
   ]
  },
  {
   "cell_type": "code",
   "execution_count": 214,
   "metadata": {},
   "outputs": [
    {
     "data": {
      "text/plain": [
       "False"
      ]
     },
     "execution_count": 214,
     "metadata": {},
     "output_type": "execute_result"
    }
   ],
   "source": [
    "topics = ['climate-change', 'environment', 'abortion', 'coronavirus', 'elections', 'terrorism', 'ukraine']\n",
    "base_url = 'https://www.politifact.com/factchecks/list/?page={page_number}&category={topic}'.format(page_number=100, topic=topics[4])\n",
    "\n",
    "\n",
    "so = get_soup_page(base_url)\n",
    "\n",
    "\n",
    "def more_pages(soup_object):\n",
    "    try:\n",
    "        if soup_object.find(attrs=\"c-title c-title--subline\").get_text().strip()=='No Results found':\n",
    "            return False\n",
    "        else:\n",
    "            return True\n",
    "    except:\n",
    "        return True\n",
    "    \n",
    "    \n",
    "    \n",
    "more_pages(so)"
   ]
  },
  {
   "cell_type": "code",
   "execution_count": 170,
   "metadata": {},
   "outputs": [
    {
     "ename": "TypeError",
     "evalue": "'NoneType' object is not subscriptable",
     "output_type": "error",
     "traceback": [
      "\u001b[0;31m---------------------------------------------------------------------------\u001b[0m",
      "\u001b[0;31mTypeError\u001b[0m                                 Traceback (most recent call last)",
      "\u001b[0;32m/tmp/ipykernel_499/380136106.py\u001b[0m in \u001b[0;36m<module>\u001b[0;34m\u001b[0m\n\u001b[1;32m     23\u001b[0m \u001b[0;34m\u001b[0m\u001b[0m\n\u001b[1;32m     24\u001b[0m             \u001b[0;31m#retrieve date for when the fake news started spreading\u001b[0m\u001b[0;34m\u001b[0m\u001b[0;34m\u001b[0m\u001b[0m\n\u001b[0;32m---> 25\u001b[0;31m             \u001b[0mstated_on\u001b[0m \u001b[0;34m=\u001b[0m \u001b[0mre\u001b[0m\u001b[0;34m.\u001b[0m\u001b[0msearch\u001b[0m\u001b[0;34m(\u001b[0m\u001b[0;34m\"([A-z])+\\s+\\d{1,2}.\\s+20+2\\d\"\u001b[0m\u001b[0;34m,\u001b[0m \u001b[0mlst_items\u001b[0m\u001b[0;34m[\u001b[0m\u001b[0mi\u001b[0m\u001b[0;34m]\u001b[0m\u001b[0;34m.\u001b[0m\u001b[0mfind_all\u001b[0m\u001b[0;34m(\u001b[0m\u001b[0mattrs\u001b[0m\u001b[0;34m=\u001b[0m\u001b[0;34m{\u001b[0m\u001b[0;34m\"m-statement__desc\"\u001b[0m\u001b[0;34m}\u001b[0m\u001b[0;34m)\u001b[0m\u001b[0;34m[\u001b[0m\u001b[0;36m0\u001b[0m\u001b[0;34m]\u001b[0m\u001b[0;34m.\u001b[0m\u001b[0mget_text\u001b[0m\u001b[0;34m(\u001b[0m\u001b[0;34m)\u001b[0m\u001b[0;34m.\u001b[0m\u001b[0mstrip\u001b[0m\u001b[0;34m(\u001b[0m\u001b[0;34m)\u001b[0m\u001b[0;34m)\u001b[0m\u001b[0;34m[\u001b[0m\u001b[0;36m0\u001b[0m\u001b[0;34m]\u001b[0m\u001b[0;34m\u001b[0m\u001b[0;34m\u001b[0m\u001b[0m\n\u001b[0m\u001b[1;32m     26\u001b[0m \u001b[0;34m\u001b[0m\u001b[0m\n\u001b[1;32m     27\u001b[0m             \u001b[0mnews_article\u001b[0m \u001b[0;34m=\u001b[0m \u001b[0;34m[\u001b[0m\u001b[0mclaim\u001b[0m\u001b[0;34m,\u001b[0m \u001b[0murl\u001b[0m\u001b[0;34m,\u001b[0m \u001b[0mtruth_value\u001b[0m\u001b[0;34m,\u001b[0m \u001b[0mstated_on\u001b[0m\u001b[0;34m,\u001b[0m \u001b[0mtopic\u001b[0m\u001b[0;34m]\u001b[0m\u001b[0;34m\u001b[0m\u001b[0;34m\u001b[0m\u001b[0m\n",
      "\u001b[0;31mTypeError\u001b[0m: 'NoneType' object is not subscriptable"
     ]
    }
   ],
   "source": [
    "    \n",
    "for topic in topics:\n",
    "    full_data = []\n",
    "    next = True\n",
    "    page_number = 0\n",
    "    base_url = 'https://www.politifact.com/factchecks/list/?page={page_number}&category={topic}'.format(page_number=page_number, topic=topics[0])\n",
    "    \n",
    "    while more_pages(base_url):\n",
    "        \n",
    "        base_url = 'https://www.politifact.com/factchecks/list/?page={page_number}&category={topic}'.format(page_number=page_number, topic=topics[0])\n",
    "        lst_items = so.find_all(attrs={\"o-listicle__item\"})\n",
    "        \n",
    "        for i in range(len(lst_items)):\n",
    "            \n",
    "            #retrieve the claim\n",
    "            claim = lst_items[i].find_all('a', href=True)[1].get_text().strip()\n",
    "\n",
    "            #retrieve url\n",
    "            url_ending = str(lst_items[i].find_all('a', href=True)[1]).split(\"\\\">\")[0].split(\"<a href=\\\"\")[1]\n",
    "            url = \"https://www.politifact.com{url_ending}\".format(url_ending=url_ending)\n",
    "\n",
    "            #retrieve truth value e.g., \"barely-true\"\n",
    "            truth_value = str(lst_items[i].find_all(attrs={'m-statement__meter'})).split(\"<img alt=\")[1].split(\" \")[0].strip(\"\\\"\")\n",
    "\n",
    "            #retrieve date for when the fake news started spreading\n",
    "            stated_on = re.search(\"([A-z])+\\s+\\d{1,2}.\\s+20+2\\d\", lst_items[i].find_all(attrs={\"m-statement__desc\"})[0].get_text().strip())[0]\n",
    "            \n",
    "            news_article = [claim, url, truth_value, stated_on, topic]\n",
    "            \n",
    "            data.append(news_article)\n",
    "\n",
    "        page_number += 1"
   ]
  },
  {
   "cell_type": "code",
   "execution_count": 5,
   "metadata": {},
   "outputs": [],
   "source": [
    "import pandas as pd\n",
    "\n",
    "df = pd.read_csv(\"../results/01_pol_scrape.csv\")"
   ]
  },
  {
   "cell_type": "code",
   "execution_count": 8,
   "metadata": {},
   "outputs": [],
   "source": [
    "df = df.drop(columns=df.columns[0])"
   ]
  },
  {
   "cell_type": "code",
   "execution_count": 11,
   "metadata": {},
   "outputs": [
    {
     "data": {
      "text/html": [
       "<div>\n",
       "<style scoped>\n",
       "    .dataframe tbody tr th:only-of-type {\n",
       "        vertical-align: middle;\n",
       "    }\n",
       "\n",
       "    .dataframe tbody tr th {\n",
       "        vertical-align: top;\n",
       "    }\n",
       "\n",
       "    .dataframe thead th {\n",
       "        text-align: right;\n",
       "    }\n",
       "</style>\n",
       "<table border=\"1\" class=\"dataframe\">\n",
       "  <thead>\n",
       "    <tr style=\"text-align: right;\">\n",
       "      <th></th>\n",
       "      <th>claim</th>\n",
       "      <th>URL</th>\n",
       "      <th>truth_value</th>\n",
       "      <th>date</th>\n",
       "      <th>topic</th>\n",
       "    </tr>\n",
       "  </thead>\n",
       "  <tbody>\n",
       "    <tr>\n",
       "      <th>1878</th>\n",
       "      <td>There’s an unlimited supply of water being gen...</td>\n",
       "      <td>https://www.politifact.com/factchecks/2022/sep...</td>\n",
       "      <td>barely-true</td>\n",
       "      <td>August 27, 2022</td>\n",
       "      <td>ukraine</td>\n",
       "    </tr>\n",
       "    <tr>\n",
       "      <th>1879</th>\n",
       "      <td>Joe Biden and Raphael Warnock \"are spending $1...</td>\n",
       "      <td>https://www.politifact.com/factchecks/2022/sep...</td>\n",
       "      <td>half-true</td>\n",
       "      <td>August 22, 2022</td>\n",
       "      <td>ukraine</td>\n",
       "    </tr>\n",
       "    <tr>\n",
       "      <th>1880</th>\n",
       "      <td>“The Earth just started spinning faster than e...</td>\n",
       "      <td>https://www.politifact.com/factchecks/2022/aug...</td>\n",
       "      <td>half-true</td>\n",
       "      <td>August 7, 2022</td>\n",
       "      <td>ukraine</td>\n",
       "    </tr>\n",
       "    <tr>\n",
       "      <th>1881</th>\n",
       "      <td>“96% of U.S. climate data is corrupted.”</td>\n",
       "      <td>https://www.politifact.com/factchecks/2022/aug...</td>\n",
       "      <td>false</td>\n",
       "      <td>July 27, 2022</td>\n",
       "      <td>ukraine</td>\n",
       "    </tr>\n",
       "    <tr>\n",
       "      <th>1882</th>\n",
       "      <td>Says Republican U.S. Sen. Ron Johnson “called ...</td>\n",
       "      <td>https://www.politifact.com/factchecks/2022/aug...</td>\n",
       "      <td>true</td>\n",
       "      <td>August 13, 2022</td>\n",
       "      <td>ukraine</td>\n",
       "    </tr>\n",
       "    <tr>\n",
       "      <th>...</th>\n",
       "      <td>...</td>\n",
       "      <td>...</td>\n",
       "      <td>...</td>\n",
       "      <td>...</td>\n",
       "      <td>...</td>\n",
       "    </tr>\n",
       "    <tr>\n",
       "      <th>2186</th>\n",
       "      <td>\"If the United States moves ahead by itself (o...</td>\n",
       "      <td>https://www.politifact.com/factchecks/2009/jul...</td>\n",
       "      <td>half-true</td>\n",
       "      <td>June 28, 2009</td>\n",
       "      <td>ukraine</td>\n",
       "    </tr>\n",
       "    <tr>\n",
       "      <th>2187</th>\n",
       "      <td>Contends that President Obama \"literally said ...</td>\n",
       "      <td>https://www.politifact.com/factchecks/2009/jun...</td>\n",
       "      <td>true</td>\n",
       "      <td>June 10, 2009</td>\n",
       "      <td>ukraine</td>\n",
       "    </tr>\n",
       "    <tr>\n",
       "      <th>2188</th>\n",
       "      <td>\"There has been no net global warming for over...</td>\n",
       "      <td>https://www.politifact.com/factchecks/2009/apr...</td>\n",
       "      <td>false</td>\n",
       "      <td>April 1, 2009</td>\n",
       "      <td>ukraine</td>\n",
       "    </tr>\n",
       "    <tr>\n",
       "      <th>2189</th>\n",
       "      <td>On whether global warming is man-made.</td>\n",
       "      <td>https://www.politifact.com/factchecks/2008/sep...</td>\n",
       "      <td>full-flop</td>\n",
       "      <td>September 11, 2008</td>\n",
       "      <td>ukraine</td>\n",
       "    </tr>\n",
       "    <tr>\n",
       "      <th>2190</th>\n",
       "      <td>\"For every single scientist that tells you (gl...</td>\n",
       "      <td>https://www.politifact.com/factchecks/2007/jun...</td>\n",
       "      <td>false</td>\n",
       "      <td>May 15, 2007</td>\n",
       "      <td>ukraine</td>\n",
       "    </tr>\n",
       "  </tbody>\n",
       "</table>\n",
       "<p>313 rows × 5 columns</p>\n",
       "</div>"
      ],
      "text/plain": [
       "                                                  claim  \\\n",
       "1878  There’s an unlimited supply of water being gen...   \n",
       "1879  Joe Biden and Raphael Warnock \"are spending $1...   \n",
       "1880  “The Earth just started spinning faster than e...   \n",
       "1881           “96% of U.S. climate data is corrupted.”   \n",
       "1882  Says Republican U.S. Sen. Ron Johnson “called ...   \n",
       "...                                                 ...   \n",
       "2186  \"If the United States moves ahead by itself (o...   \n",
       "2187  Contends that President Obama \"literally said ...   \n",
       "2188  \"There has been no net global warming for over...   \n",
       "2189             On whether global warming is man-made.   \n",
       "2190  \"For every single scientist that tells you (gl...   \n",
       "\n",
       "                                                    URL  truth_value  \\\n",
       "1878  https://www.politifact.com/factchecks/2022/sep...  barely-true   \n",
       "1879  https://www.politifact.com/factchecks/2022/sep...    half-true   \n",
       "1880  https://www.politifact.com/factchecks/2022/aug...    half-true   \n",
       "1881  https://www.politifact.com/factchecks/2022/aug...        false   \n",
       "1882  https://www.politifact.com/factchecks/2022/aug...         true   \n",
       "...                                                 ...          ...   \n",
       "2186  https://www.politifact.com/factchecks/2009/jul...    half-true   \n",
       "2187  https://www.politifact.com/factchecks/2009/jun...         true   \n",
       "2188  https://www.politifact.com/factchecks/2009/apr...        false   \n",
       "2189  https://www.politifact.com/factchecks/2008/sep...    full-flop   \n",
       "2190  https://www.politifact.com/factchecks/2007/jun...        false   \n",
       "\n",
       "                    date    topic  \n",
       "1878     August 27, 2022  ukraine  \n",
       "1879     August 22, 2022  ukraine  \n",
       "1880      August 7, 2022  ukraine  \n",
       "1881       July 27, 2022  ukraine  \n",
       "1882     August 13, 2022  ukraine  \n",
       "...                  ...      ...  \n",
       "2186       June 28, 2009  ukraine  \n",
       "2187       June 10, 2009  ukraine  \n",
       "2188       April 1, 2009  ukraine  \n",
       "2189  September 11, 2008  ukraine  \n",
       "2190        May 15, 2007  ukraine  \n",
       "\n",
       "[313 rows x 5 columns]"
      ]
     },
     "execution_count": 11,
     "metadata": {},
     "output_type": "execute_result"
    }
   ],
   "source": [
    "df[df.topic=='ukraine']"
   ]
  }
 ],
 "metadata": {
  "kernelspec": {
   "display_name": "Python 3.9.7 ('base')",
   "language": "python",
   "name": "python3"
  },
  "language_info": {
   "codemirror_mode": {
    "name": "ipython",
    "version": 3
   },
   "file_extension": ".py",
   "mimetype": "text/x-python",
   "name": "python",
   "nbconvert_exporter": "python",
   "pygments_lexer": "ipython3",
   "version": "3.9.7"
  },
  "orig_nbformat": 4,
  "vscode": {
   "interpreter": {
    "hash": "36e2581dfb10b7e3de3547be529c2e8e9e4d59798f578734b808d68ebdb931d0"
   }
  }
 },
 "nbformat": 4,
 "nbformat_minor": 2
}
